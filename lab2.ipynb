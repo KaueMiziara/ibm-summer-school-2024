{
 "cells": [
  {
   "cell_type": "markdown",
   "metadata": {},
   "source": [
    "# Lab 2: Utility-Scale Layer Fidelity Experiment\n",
    "\n",
    "Samantha Barron, Haimeng Zhang"
   ]
  },
  {
   "cell_type": "markdown",
   "metadata": {},
   "source": [
    "In this lab we will show a guided construction of how to calculate the EPLG (Error Per Layered Gate) and LF (Layer Fidelity). These metrics quantify error rates in a circuit, and are particularly useful in understanding the overhead required to run error mitigation at utility-scale workloads.\n",
    "\n",
    "For more details on the background of these metrics, see the [Quantum Research Blog post](https://www.ibm.com/quantum/blog/quantum-metric-layer-fidelity) or the associated technical paper, [Benchmarking Quantum Processor Performance at Scale](https://arxiv.org/abs/2311.05933). You can also find an implementation of the Layer Fidelity experiment [here](https://github.com/qiskit-community/qiskit-device-benchmarking/blob/main/notebooks/layer_fidelity.ipynb) using `qiskit-experiments` module, whereas, in this notebook, we will directly use Qiskit Runtime Primitives for circuit execution.\n",
    "\n",
    "The first few parts of this lab contain graded exercises, whereas the latter portions of this lab are a guided walkthrough of how to use the Qiskit Runtime to do these utility-scale calculations.\n",
    "\n",
    "Table of Contents:\n",
    "- In Section 0 we list the package requirement to run this notebook.\n",
    "- In Sections 1-3 we will set up the layers and associated circuits which define the disjoint sets of qubits on which we will perform EPLG calculations.\n",
    "- In Section 4 we construct the total EPLG circuits.\n",
    "- In Section 5-7 we construct the `BindingsArray`, `ObservablesArray`s, and `EstimatorPub`s for the EPLG characterization.\n",
    "- In Section 8 we submit these to the `EstimatorV2` Qiskit Runtime Primitive.\n",
    "- In Section 9 we perform the data analysis and fittings used to extract the EPLG and LF with the resulting data."
   ]
  },
  {
   "cell_type": "markdown",
   "metadata": {},
   "source": [
    "# Part 0: Requirements\n",
    "\n",
    "To run this notebook, you will need to install the following packages:\n",
    "\n",
    "For circuit construction and execution on the IBM Quantum hardware:\n",
    "```\n",
    "qiskit >= 1.0.0\n",
    "qiskit-ibm-runtime >= 0.21.1\n",
    "```\n",
    "For data analysis and display:\n",
    "```\n",
    "lmfit\n",
    "pandas\n",
    "```"
   ]
  },
  {
   "cell_type": "code",
   "metadata": {
    "ExecuteTime": {
     "end_time": "2024-07-26T03:52:23.827168Z",
     "start_time": "2024-07-26T03:52:23.821489Z"
    }
   },
   "source": "%set_env QXToken=''",
   "outputs": [
    {
     "name": "stdout",
     "output_type": "stream",
     "text": [
      "env: QXToken=''\n"
     ]
    }
   ],
   "execution_count": 133
  },
  {
   "cell_type": "markdown",
   "metadata": {},
   "source": [
    "# Part 1: Define 1-D Chain\n",
    "To start, we will choose a backend. In this lab you can choose whatever backend you want.\n",
    "\n",
    "In order to compute the EPLG and LF, we need to choose a chain of qubits on the device to characterize. The first problem is this, you should provide:\n",
    "1. A chain of qubits on the device which is a simply connected path graph of qubits on the device. I.e., provide a list `PATH_ANSWER: list[int]` whose elements are physical qubits on the device, and adjacent elements of the list are connected on the coupling map by edges. The list should contain at least `3` elements.\n",
    "2. The backend you have chosen: `BACKEND: IBMBackend`.\n",
    "\n",
    "Answers to grade:\n",
    "- `PATH_ANSWER: list[int]`\n",
    "- `BACKEND: IBMBackend`"
   ]
  },
  {
   "cell_type": "code",
   "metadata": {
    "ExecuteTime": {
     "end_time": "2024-07-25T22:40:39.798120Z",
     "start_time": "2024-07-25T22:40:35.381503Z"
    }
   },
   "source": [
    "from qiskit_ibm_runtime import QiskitRuntimeService\n",
    "\n",
    "service = QiskitRuntimeService()"
   ],
   "outputs": [],
   "execution_count": 16
  },
  {
   "cell_type": "code",
   "metadata": {
    "ExecuteTime": {
     "end_time": "2024-07-26T00:19:29.461798Z",
     "start_time": "2024-07-26T00:19:29.449137Z"
    }
   },
   "source": [
    "# part 1: pick a backend and define 1-D chain\n",
    "\n",
    "### Your code goes here ###\n",
    "# from qiskit.providers.fake_provider import GenericBackendV2\n",
    "\n",
    "# BACKEND = GenericBackendV2(127)\n",
    "BACKEND = service.backend(\"ibm_osaka\")\n",
    "\n",
    "PATH_ANSWER = [0, 1, 2, 3, 4, 5]"
   ],
   "outputs": [],
   "execution_count": 95
  },
  {
   "cell_type": "code",
   "metadata": {
    "ExecuteTime": {
     "end_time": "2024-07-26T00:19:41.154088Z",
     "start_time": "2024-07-26T00:19:38.742855Z"
    }
   },
   "source": [
    "# grade part 1\n",
    "from qc_grader.challenges.qgss_2024 import grade_lab2_ex1\n",
    "grade_lab2_ex1(PATH_ANSWER, BACKEND)"
   ],
   "outputs": [
    {
     "name": "stdout",
     "output_type": "stream",
     "text": [
      "Submitting your answer. Please wait...\n",
      "Nice work, all your answers look correct!\n"
     ]
    }
   ],
   "execution_count": 96
  },
  {
   "cell_type": "markdown",
   "metadata": {},
   "source": [
    "# Part 2: Define Disjoint Layers\n",
    "\n",
    "Next, we need to form two sets of edges which correspond to the different layers we will use in benchmarking, say `LAYER_1_ANSWER` and `LAYER_2_ANSWER`, each with type `list[tuple[int, int]]`. These layers should have the following properties:\n",
    "- Each `LAYER_i_ANSWER` contains edges on distinct sets of qubits, e.g. `(0, 1)` and `(1, 2)` cannot both be in `LAYER_i_ANSWER`, since they both contain `1`.\n",
    "- Every qubit in `PATH_ANSWER` must be contained in at least one of the `LAYER_i`s.\n",
    "\n",
    "Answers to grade:\n",
    "- `LAYER_1_ANSWER: list[tuple[int, int]]`\n",
    "- `LAYER_2_ANSWER: list[tuple[int, int]]`\n",
    "- `PATH_ANSWER: list[int]` (same as before)"
   ]
  },
  {
   "cell_type": "code",
   "metadata": {
    "ExecuteTime": {
     "end_time": "2024-07-26T00:21:01.870120Z",
     "start_time": "2024-07-26T00:21:01.866392Z"
    }
   },
   "source": [
    "# part 2: define disjoint layers from a 1D chain\n",
    "\n",
    "### Your code goes here ###\n",
    "LAYER_1_ANSWER = [(1, 0), (2, 3), (5, 4)]\n",
    "LAYER_2_ANSWER = [(2, 1), (3, 4)]"
   ],
   "outputs": [],
   "execution_count": 100
  },
  {
   "cell_type": "code",
   "metadata": {
    "ExecuteTime": {
     "end_time": "2024-07-26T00:21:13.422603Z",
     "start_time": "2024-07-26T00:21:10.420302Z"
    }
   },
   "source": [
    "# grade part 2\n",
    "from qc_grader.challenges.qgss_2024 import grade_lab2_ex2\n",
    "grade_lab2_ex2(LAYER_1_ANSWER, LAYER_2_ANSWER, PATH_ANSWER, BACKEND)"
   ],
   "outputs": [
    {
     "name": "stdout",
     "output_type": "stream",
     "text": [
      "Submitting your answer. Please wait...\n",
      "Nice work, all your answers look correct!\n"
     ]
    }
   ],
   "execution_count": 101
  },
  {
   "cell_type": "markdown",
   "metadata": {},
   "source": [
    "# Part 3: Construct Clifford Entangling Layers\n",
    "Now we can use the `LAYER_i` from the previous problem to construct the `QuantumCircuit`s for each layer, which we will use for the EPLG experiments. Now it's your job to construct two circuits, `CIRC_1_ANSWER` and `CIRC_2_ANSWER`.\n",
    "- Each of them should contain a two-qubit Clifford gate for every pair in `LAYER_1_ANSWER` and `LAYER_2_ANSWER` from before.\n",
    "- The two-qubit Clifford gate (`GATE_NAME`) must be one provided by the backend you choose, i.e. it is in `backend.basis_gates`, should be one of `'ecr'`, `'cz'` or `'cx'` depending on your backend.\n",
    "\n",
    "Answers to grade:\n",
    "- `CIRCUIT_1_ANSWER: QuantumCircuit`\n",
    "- `CIRCUIT_2_ANSWER: QuantumCircuit`\n",
    "- `LAYER_1_ANSWER: list[tuple[int, int]]` (same as before)\n",
    "- `LAYER_2_ANSWER: list[tuple[int, int]]` (same as before)\n",
    "- `GATE_NAME: str`"
   ]
  },
  {
   "cell_type": "code",
   "metadata": {
    "ExecuteTime": {
     "end_time": "2024-07-26T00:21:18.951622Z",
     "start_time": "2024-07-26T00:21:18.911188Z"
    }
   },
   "source": [
    "from qiskit import QuantumCircuit\n",
    "\n",
    "# part 2: define disjoint layers from a 1D chain\n",
    "\n",
    "### Your code goes here ###\n",
    "print(BACKEND.operation_names)\n",
    "\n",
    "GATE_NAME = \"cx\"\n",
    "\n",
    "CIRC_1_ANSWER = QuantumCircuit(6)\n",
    "CIRC_1_ANSWER.cx([i[0] for i in LAYER_1_ANSWER], [j[1] for j in LAYER_1_ANSWER])\n",
    "CIRC_2_ANSWER = QuantumCircuit(6)\n",
    "CIRC_2_ANSWER.cx([i[0] for i in LAYER_2_ANSWER], [j[1] for j in LAYER_2_ANSWER])"
   ],
   "outputs": [
    {
     "name": "stdout",
     "output_type": "stream",
     "text": [
      "['for_loop', 'reset', 'id', 'measure', 'delay', 'switch_case', 'rz', 'sx', 'ecr', 'if_else', 'x']\n"
     ]
    },
    {
     "data": {
      "text/plain": [
       "<qiskit.circuit.instructionset.InstructionSet at 0x7eca86210310>"
      ]
     },
     "execution_count": 102,
     "metadata": {},
     "output_type": "execute_result"
    }
   ],
   "execution_count": 102
  },
  {
   "cell_type": "code",
   "metadata": {
    "ExecuteTime": {
     "end_time": "2024-07-26T00:21:30.522616Z",
     "start_time": "2024-07-26T00:21:25.172256Z"
    }
   },
   "source": [
    "# grade part 3\n",
    "from qc_grader.challenges.qgss_2024 import grade_lab2_ex3\n",
    "grade_lab2_ex3(CIRC_1_ANSWER, LAYER_1_ANSWER, GATE_NAME, BACKEND)\n",
    "grade_lab2_ex3(CIRC_2_ANSWER, LAYER_2_ANSWER, GATE_NAME, BACKEND)"
   ],
   "outputs": [
    {
     "name": "stdout",
     "output_type": "stream",
     "text": [
      "Submitting your answer. Please wait...\n",
      "Nice work, all your answers look correct!\n",
      "Submitting your answer. Please wait...\n",
      "Nice work, all your answers look correct!\n"
     ]
    }
   ],
   "execution_count": 103
  },
  {
   "cell_type": "markdown",
   "metadata": {},
   "source": [
    "# Part 4: Construct EPLG Experiment Circuits\n",
    "\n",
    "*No grading for this part*\n",
    "\n",
    "In this part, we will use the circuits you constructed to construct the total EPLG circuits.  These circuits interleave the layers from before between layers of random Clifford gates.\n",
    "\n",
    "A few technical asides:\n",
    "1. There is a slight difference between the circuits constructed here and those defined in the EPLG paper. For a circuit of depth $d$ (for even $d$), we randomly sample 1q Clifford gates for $d/2$ layers, and then we invert the circuit for the last $d/2$ layers. This provides a simple implmentation for our purposes, and the details of this difference are beyond the scope of this lab.\n",
    "2. We perform 1q Clifford sampling by taking advantage of the fact that for backends whose single qubit gates are composed of $R_z(\\theta_1) \\sqrt{X} R_z(\\theta_2) \\sqrt{X} R_z(\\theta_3)$, when $\\theta_i \\in \\{ \\pm \\pi / 2, \\pm \\pi, 0 \\}$, the resulting single qubit gate is a Clifford. This allows us to randomly sample 1q Clifford gates simply by changing parameters."
   ]
  },
  {
   "cell_type": "code",
   "metadata": {
    "ExecuteTime": {
     "end_time": "2024-07-26T00:21:35.963547Z",
     "start_time": "2024-07-26T00:21:35.955917Z"
    }
   },
   "source": [
    "from qiskit.circuit import Parameter\n",
    "from qiskit.transpiler.preset_passmanagers import generate_preset_pass_manager\n",
    "\n",
    "def eplg_circuit(num_qubits: int, depth: int, layer: QuantumCircuit, qubits: tuple[int, ...]) -> QuantumCircuit:\n",
    "    if depth % 2 != 0:\n",
    "        raise ValueError(f\"The depth must be even, got {depth}\")\n",
    "\n",
    "    def parameters():\n",
    "        _depth = 0\n",
    "        while True:\n",
    "            for zi in range(3):\n",
    "                for q in range(num_qubits):\n",
    "                    yield Parameter(f\"d{_depth}_q{q}_z{zi}\")\n",
    "            _depth += 1\n",
    "    _parameters = parameters()\n",
    "\n",
    "    circ = QuantumCircuit(num_qubits)\n",
    "\n",
    "    def _1q_layer():\n",
    "        for j in range(3):\n",
    "            for k in qubits:\n",
    "                circ.rz(next(_parameters), k)\n",
    "            if j == 2:\n",
    "                continue\n",
    "            circ.sx(qubits)\n",
    "\n",
    "    for _depth in range(depth // 2):\n",
    "        circ.barrier(qubits)\n",
    "        _1q_layer()\n",
    "        circ.barrier(qubits)\n",
    "        circ.compose(layer, inplace=True)\n",
    "    circ.barrier(qubits)\n",
    "    _1q_layer()\n",
    "    circ.barrier(qubits)\n",
    "    \n",
    "    # Assuming mirroring is fine\n",
    "    circ = circ.compose(circ.inverse())\n",
    "\n",
    "    circ.measure_active()\n",
    "\n",
    "    pm = generate_preset_pass_manager(basis_gates=[\"ecr\", \"sx\", \"rz\"], optimization_level=0)\n",
    "    circ = pm.run(circ)\n",
    "\n",
    "    circ.metadata[\"layer_depth\"] = depth\n",
    "    circ.metadata[\"qubits\"] = qubits\n",
    "    circ.metadata[\"num_qubits\"] = num_qubits\n",
    "\n",
    "    return circ"
   ],
   "outputs": [],
   "execution_count": 104
  },
  {
   "cell_type": "markdown",
   "metadata": {},
   "source": [
    "Here are examples of the EPLG circuits for depth $d=4$. In a later part we will use this function to construct circuits for varying $d$."
   ]
  },
  {
   "cell_type": "code",
   "metadata": {
    "ExecuteTime": {
     "end_time": "2024-07-26T00:21:42.997518Z",
     "start_time": "2024-07-26T00:21:42.891285Z"
    }
   },
   "source": [
    "example_circuit_1 = eplg_circuit(\n",
    "    num_qubits=BACKEND.num_qubits,\n",
    "    depth=4,\n",
    "    layer=CIRC_1_ANSWER,\n",
    "    qubits=PATH_ANSWER,\n",
    ")"
   ],
   "outputs": [],
   "execution_count": 105
  },
  {
   "cell_type": "code",
   "metadata": {
    "ExecuteTime": {
     "end_time": "2024-07-26T00:21:43.051408Z",
     "start_time": "2024-07-26T00:21:42.998631Z"
    }
   },
   "source": [
    "example_circuit_2 = eplg_circuit(\n",
    "    num_qubits=BACKEND.num_qubits,\n",
    "    depth=4,\n",
    "    layer=CIRC_2_ANSWER,\n",
    "    qubits=PATH_ANSWER,\n",
    ")"
   ],
   "outputs": [],
   "execution_count": 106
  },
  {
   "cell_type": "markdown",
   "metadata": {},
   "source": [
    "# Part 5: Construct `BindingsArray`s\n",
    "\n",
    "*No grading for this part*\n",
    "\n",
    "In the previous section, the circuits we constructed are parameterized such that if we sample with the appropriate values, they will always produce random single-qubit Clifford gates.\n",
    "\n",
    "For our EPLG calculations, we need to sample lots of sets of parameters. This is expressed conveniently with the `BindingsArray`. The `BindingsArray` can be thought of as an array whose elements correspond to sets of parameters and their bound values.\n",
    "\n",
    "For example, if we have a circuit with $k$ parameters, and we need to sample all of the parameters $m$ times, the `BindingsArray` that accomplishes this would have shape `(m,)`. Similarly, if we want to have a more complicated set of bindings to perform, our `BindingsArray` can have arbitrary shape, and supports `numpy`-like reshaping operations, slicing, etc.\n",
    "\n",
    "In this section, we will construct a function which accepts a `QuantumCircuit`, the number of samples we want to perform, and a `numpy` RNG to perform the single-qubit Clifford sampling. We will use this later on to produce our `EstimatorPub`s."
   ]
  },
  {
   "cell_type": "code",
   "metadata": {
    "ExecuteTime": {
     "end_time": "2024-07-26T00:21:49.064106Z",
     "start_time": "2024-07-26T00:21:49.058349Z"
    }
   },
   "source": [
    "import numpy as np\n",
    "\n",
    "from qiskit.primitives.containers.bindings_array import BindingsArray\n",
    "\n",
    "def get_clifford_rz_samples(\n",
    "    circ: QuantumCircuit,\n",
    "    num_samples: int,\n",
    "    rng: np.random.Generator,\n",
    ") -> BindingsArray:\n",
    "    \"\"\"Uniformly sample the Rz parameters in a `QuantumCircuit`\n",
    "    from -pi, -pi/2, 0, +pi/2, +pi.\n",
    "    \"\"\"\n",
    "\n",
    "    _allowed_ops = {'rz', 'sx', 'sxdg', 'ecr', 'barrier', 'measure'}\n",
    "    if (_other := set(circ.count_ops().keys()) - _allowed_ops):\n",
    "        raise ValueError(f\"Circuit must only contain ops: {_allowed_ops}, got {_other}\")\n",
    "\n",
    "    sampled_pars = rng.integers(-2, 3, size=(num_samples, len(circ.parameters))) * (np.pi/2)\n",
    "\n",
    "    return BindingsArray({\n",
    "        tuple(circ.parameters): sampled_pars\n",
    "    })"
   ],
   "outputs": [],
   "execution_count": 107
  },
  {
   "cell_type": "markdown",
   "metadata": {},
   "source": [
    "As an example, we can take each of our circuits and produce bindings"
   ]
  },
  {
   "cell_type": "code",
   "metadata": {
    "ExecuteTime": {
     "end_time": "2024-07-26T00:21:49.098964Z",
     "start_time": "2024-07-26T00:21:49.065339Z"
    }
   },
   "source": [
    "num_samples = 10\n",
    "ARRAY_1_ANSWER = get_clifford_rz_samples(\n",
    "    circ=example_circuit_1,\n",
    "    num_samples=num_samples,\n",
    "    rng=np.random.default_rng(42))"
   ],
   "outputs": [],
   "execution_count": 108
  },
  {
   "cell_type": "code",
   "metadata": {
    "ExecuteTime": {
     "end_time": "2024-07-26T00:21:59.359122Z",
     "start_time": "2024-07-26T00:21:56.804168Z"
    }
   },
   "source": [
    "# grade part 4\n",
    "from qc_grader.challenges.qgss_2024 import grade_lab2_ex4\n",
    "grade_lab2_ex4(ARRAY_1_ANSWER, example_circuit_1, num_samples)"
   ],
   "outputs": [
    {
     "name": "stdout",
     "output_type": "stream",
     "text": [
      "Submitting your answer. Please wait...\n",
      "Nice work, all your answers look correct! \n",
      " Notice that the shape of the BindingsArray is [10], and there are {num_parameters} parameters.\n"
     ]
    }
   ],
   "execution_count": 109
  },
  {
   "cell_type": "markdown",
   "metadata": {},
   "source": [
    "Notice that despite the large number of parameters, the `BindingsArray` has shape `(10,)`, meaning it has `10` entries. As we discussed before, this is because its elements correspond to sets of parameters and their bound values"
   ]
  },
  {
   "cell_type": "markdown",
   "metadata": {},
   "source": [
    "# Part 6: Make `ObservablesArray`s\n",
    "\n",
    "*No grading for this part*\n",
    "\n",
    "The only remaining thing that we need to produce an `EstimatorPub` is an `ObservablesArray`. The `ObservablesArray` can be seen as a array whose elements are observables. In our case, they will be `SparsePauliOp`s.\n",
    "\n",
    "In order to calculate the EPLG and LF, we need to calculate the expectation values $\\text{Tr}\\left( \\rho \\ket{00}_{i,j}\\bra{00}_{i,j}\\right)$ and $\\text{Tr}\\left( \\rho \\ket{0}_{i}\\bra{0}_{i}\\right)$ for qubits $i$, $j$ depending on the layers we chose before.\n",
    "\n",
    "Alternatively we could do this using the `SamplerV2` rather than the `EstimatorV2`. This would come with the tradeoff of having more post-processing that we have to do, but we can have the `EstimatorV2` do this for us by constructing the projectors $\\ket{0}_{i}\\bra{0}_{i}$ and $\\ket{00}_{i,j}\\bra{00}_{i,j}$ and using them as observables.\n",
    "\n",
    "This means that the expectation values we get back from the `EstimatorV2` will be the process fidelities that we're interested in!"
   ]
  },
  {
   "cell_type": "code",
   "metadata": {
    "ExecuteTime": {
     "end_time": "2024-07-26T00:21:59.375022Z",
     "start_time": "2024-07-26T00:21:59.363085Z"
    }
   },
   "source": [
    "import numpy as np\n",
    "from itertools import product\n",
    "from qiskit.quantum_info import SparsePauliOp\n",
    "\n",
    "def process_fidelity_observable(num_qubits: int, qubits: tuple[int, ...]) -> SparsePauliOp:\n",
    "    \"\"\"Produces the all 0 projector on `qubits` tensored with the identity on all other qubits\"\"\"\n",
    "    pauli_strings = []\n",
    "\n",
    "    for p_sub_str in product([\"I\", \"Z\"], repeat=len(qubits)):\n",
    "        p_str = [\"I\"] * num_qubits\n",
    "        for qi, pi in zip(qubits, p_sub_str):\n",
    "            p_str[qi] = pi\n",
    "        pauli_strings.append(\"\".join(p_str[::-1]))\n",
    "    \n",
    "    return SparsePauliOp(pauli_strings, np.ones(len(pauli_strings)) / 2**len(qubits))"
   ],
   "outputs": [],
   "execution_count": 110
  },
  {
   "cell_type": "markdown",
   "metadata": {},
   "source": [
    "Now we need to produce `ObservablesArray`s which correspond to the projectors we are interested in, i.e. the process fidelities for subsets of our path."
   ]
  },
  {
   "cell_type": "code",
   "metadata": {
    "ExecuteTime": {
     "end_time": "2024-07-26T00:21:59.400718Z",
     "start_time": "2024-07-26T00:21:59.379331Z"
    }
   },
   "source": [
    "from qiskit.primitives.containers.observables_array import ObservablesArray\n",
    "\n",
    "LAYER_1_SUBSYSTEMS = LAYER_1_ANSWER + [(q,) for q in set(PATH_ANSWER) - set(item for sublist in LAYER_1_ANSWER for item in sublist)]\n",
    "LAYER_2_SUBSYSTEMS = LAYER_2_ANSWER + [(q,) for q in set(PATH_ANSWER) - set(item for sublist in LAYER_2_ANSWER for item in sublist)]\n",
    "\n",
    "LAYER_1_OBSERVABLES = ObservablesArray([process_fidelity_observable(BACKEND.num_qubits, qubits) for qubits in LAYER_1_SUBSYSTEMS])\n",
    "LAYER_2_OBSERVABLES = ObservablesArray([process_fidelity_observable(BACKEND.num_qubits, qubits) for qubits in LAYER_2_SUBSYSTEMS])"
   ],
   "outputs": [],
   "execution_count": 111
  },
  {
   "cell_type": "markdown",
   "metadata": {},
   "source": [
    "Note that the `LAYER_i_OBSERVABLES` have a shape which corresponds to the number of subsystems in each layer.\n",
    "\n",
    "Since all of the observables in our `ObservablesArray`s are diagonal in the computational basis (i.e. they only consist of Paulis which have $I$ and $Z$ terms), the `EstimatorV2` does not need to compute expectation values in additional bases."
   ]
  },
  {
   "cell_type": "code",
   "metadata": {
    "ExecuteTime": {
     "end_time": "2024-07-26T00:22:06.712614Z",
     "start_time": "2024-07-26T00:22:06.707887Z"
    }
   },
   "source": [
    "LAYER_1_OBSERVABLES.shape == (len(LAYER_1_SUBSYSTEMS),)"
   ],
   "outputs": [
    {
     "data": {
      "text/plain": [
       "True"
      ]
     },
     "execution_count": 112,
     "metadata": {},
     "output_type": "execute_result"
    }
   ],
   "execution_count": 112
  },
  {
   "cell_type": "code",
   "metadata": {
    "ExecuteTime": {
     "end_time": "2024-07-26T00:22:06.723666Z",
     "start_time": "2024-07-26T00:22:06.713971Z"
    }
   },
   "source": [
    "LAYER_2_OBSERVABLES.shape == (len(LAYER_2_SUBSYSTEMS),)"
   ],
   "outputs": [
    {
     "data": {
      "text/plain": [
       "True"
      ]
     },
     "execution_count": 113,
     "metadata": {},
     "output_type": "execute_result"
    }
   ],
   "execution_count": 113
  },
  {
   "cell_type": "markdown",
   "metadata": {},
   "source": [
    "# Part 7: Make Sequence of `EstimatorPub`s\n",
    "\n",
    "*No grading for this part*\n",
    "\n",
    "Finally, we can construct our `EstimatorPub`s. The [`EstimatorPub`](https://github.com/Qiskit/qiskit/blob/main/qiskit/primitives/containers/estimator_pub.py#L36) is can be seen as a tuple consisting of a `QuantumCircuit`, an `ObservablesArray`, and a `BindingsArray` (and optionally a precision). Given an `EstimatorPub` with a given shape, the `EstimatorV2` will return arrays of expectation values (and their standard deviations) whose shape is the same as the input `EstimatorPub`.\n",
    "\n",
    "In order to construct the `EstimatorPub`s needed to do the EPLG calculations, we need `EstimatorPub`s which vary in\n",
    "- the input circuit (i.e. one for each disjoint set of edges) (in our case `2`)\n",
    "- the depth of the circuit (we have chosen `6` depths here by default).\n",
    "\n",
    "Therefore, we will have $2 \\times 6 = 12$ `EstimatorPub`s total. Within each of these, we have `10` twirling samples, and `k` fidelities (which depends on the path you chose, this should roughly be half of the length of the path). So we have $12$ `EstimatorPub`s, each with $10 k$ elements.\n",
    "\n",
    "Therefore, the total number of expectation values that we *expect* to receive is $120k$. For a length $30$ chain, $k = 15$, meaning we should roughly $1,800$ expectation values back overall (depending on the edges of the chain)."
   ]
  },
  {
   "cell_type": "code",
   "metadata": {
    "ExecuteTime": {
     "end_time": "2024-07-26T00:22:14.172717Z",
     "start_time": "2024-07-26T00:22:14.168813Z"
    }
   },
   "source": [
    "rng = np.random.default_rng(42)\n",
    "num_samples = 10\n",
    "depths = [2, 4, 8, 16, 32, 64]"
   ],
   "outputs": [],
   "execution_count": 114
  },
  {
   "cell_type": "code",
   "metadata": {
    "ExecuteTime": {
     "end_time": "2024-07-26T00:22:15.370974Z",
     "start_time": "2024-07-26T00:22:14.174496Z"
    }
   },
   "source": [
    "from qiskit.primitives.containers.estimator_pub import EstimatorPub\n",
    "\n",
    "estimator_pubs = []\n",
    "for depth in depths:\n",
    "    for layer, name, observables in [(CIRC_1_ANSWER, \"circ_1\", LAYER_1_OBSERVABLES), (CIRC_2_ANSWER, \"circ_2\", LAYER_2_OBSERVABLES)]:\n",
    "        circ = eplg_circuit(\n",
    "            num_qubits=BACKEND.num_qubits,\n",
    "            depth=depth,\n",
    "            layer=layer,\n",
    "            qubits=PATH_ANSWER,\n",
    "        )\n",
    "        circ.metadata[\"layer_idx\"] = name\n",
    "        bindings_array = get_clifford_rz_samples(\n",
    "            circ=circ,\n",
    "            num_samples=num_samples,\n",
    "            rng=rng,\n",
    "        )\n",
    "\n",
    "        # We need to reshape the `ObservablesArray`s and `BindingsArray`s so they\n",
    "        # can be broadcasted.\n",
    "        # https://numpy.org/doc/stable/user/basics.broadcasting.html#basics-broadcasting\n",
    "        estimator_pubs.append(EstimatorPub(\n",
    "            circuit=circ,\n",
    "            observables=observables.reshape((*observables.shape, 1)),\n",
    "            parameter_values=bindings_array.reshape((1, *bindings_array.shape)),\n",
    "        ))"
   ],
   "outputs": [],
   "execution_count": 115
  },
  {
   "cell_type": "markdown",
   "metadata": {},
   "source": [
    "As a sanity check, we can count the number of expectation values we should obtain overall from the shape of the `EstimatorPub`s."
   ]
  },
  {
   "cell_type": "code",
   "metadata": {
    "ExecuteTime": {
     "end_time": "2024-07-26T00:22:15.376382Z",
     "start_time": "2024-07-26T00:22:15.372211Z"
    }
   },
   "source": [
    "num_evs_expected = 0\n",
    "for pub in estimator_pubs:\n",
    "    num_evs_expected += np.prod(estimator_pubs[0].shape)\n",
    "num_evs_expected"
   ],
   "outputs": [
    {
     "data": {
      "text/plain": [
       "np.int64(360)"
      ]
     },
     "execution_count": 116,
     "metadata": {},
     "output_type": "execute_result"
    }
   ],
   "execution_count": 116
  },
  {
   "cell_type": "markdown",
   "metadata": {},
   "source": [
    "# Part 8: Submit to Runtime\n",
    "\n",
    "*No grading for this part*\n",
    "\n",
    "Finally, we are ready to hand off our `EstimatorPub`s to the `EstimatorV2`.\n",
    "\n",
    "Since the calculation of EPLG is SPAM-robust, we should turn off measurement mitigation, which is enabled by default."
   ]
  },
  {
   "cell_type": "code",
   "metadata": {
    "ExecuteTime": {
     "end_time": "2024-07-26T00:22:20.932775Z",
     "start_time": "2024-07-26T00:22:20.899137Z"
    }
   },
   "source": [
    "from qiskit_ibm_runtime import EstimatorV2\n",
    "estimator = EstimatorV2(backend=BACKEND)\n",
    "estimator.options.resilience.measure_mitigation = False"
   ],
   "outputs": [],
   "execution_count": 117
  },
  {
   "cell_type": "markdown",
   "metadata": {},
   "source": [
    "Now we can run the `EstimatorV2` with our `EstimatorPub`s and wait for the result.\n",
    "\n",
    "With the default settings in this notebook, this should take no more than 10 minutes to complete (not accounting for queue time)."
   ]
  },
  {
   "cell_type": "code",
   "metadata": {
    "ExecuteTime": {
     "end_time": "2024-07-26T00:22:31.841006Z",
     "start_time": "2024-07-26T00:22:28.466150Z"
    }
   },
   "source": [
    "estimator_job = estimator.run(estimator_pubs)"
   ],
   "outputs": [],
   "execution_count": 118
  },
  {
   "cell_type": "markdown",
   "metadata": {},
   "source": [
    "And we can get the `PrimitiveResult` with"
   ]
  },
  {
   "cell_type": "code",
   "metadata": {
    "ExecuteTime": {
     "end_time": "2024-07-26T03:49:27.607069Z",
     "start_time": "2024-07-26T00:22:39.972059Z"
    }
   },
   "source": [
    "primitive_result = estimator_job.result()\n",
    "\n",
    "primitive_result"
   ],
   "outputs": [
    {
     "data": {
      "text/plain": [
       "PrimitiveResult([PubResult(data=DataBin(evs=np.ndarray(<shape=(3, 10), dtype=float64>), stds=np.ndarray(<shape=(3, 10), dtype=float64>), ensemble_standard_error=np.ndarray(<shape=(3, 10), dtype=float64>), shape=(3, 10)), metadata={'shots': 4096, 'target_precision': 0.015625, 'circuit_metadata': {'layer_depth': 2, 'qubits': [0, 1, 2, 3, 4, 5], 'num_qubits': 127, 'layer_idx': 'circ_1'}, 'num_randomizations': 32}), PubResult(data=DataBin(evs=np.ndarray(<shape=(4, 10), dtype=float64>), stds=np.ndarray(<shape=(4, 10), dtype=float64>), ensemble_standard_error=np.ndarray(<shape=(4, 10), dtype=float64>), shape=(4, 10)), metadata={'shots': 4096, 'target_precision': 0.015625, 'circuit_metadata': {'layer_depth': 2, 'qubits': [0, 1, 2, 3, 4, 5], 'num_qubits': 127, 'layer_idx': 'circ_2'}, 'num_randomizations': 32}), PubResult(data=DataBin(evs=np.ndarray(<shape=(3, 10), dtype=float64>), stds=np.ndarray(<shape=(3, 10), dtype=float64>), ensemble_standard_error=np.ndarray(<shape=(3, 10), dtype=float64>), shape=(3, 10)), metadata={'shots': 4096, 'target_precision': 0.015625, 'circuit_metadata': {'layer_depth': 4, 'qubits': [0, 1, 2, 3, 4, 5], 'num_qubits': 127, 'layer_idx': 'circ_1'}, 'num_randomizations': 32}), PubResult(data=DataBin(evs=np.ndarray(<shape=(4, 10), dtype=float64>), stds=np.ndarray(<shape=(4, 10), dtype=float64>), ensemble_standard_error=np.ndarray(<shape=(4, 10), dtype=float64>), shape=(4, 10)), metadata={'shots': 4096, 'target_precision': 0.015625, 'circuit_metadata': {'layer_depth': 4, 'qubits': [0, 1, 2, 3, 4, 5], 'num_qubits': 127, 'layer_idx': 'circ_2'}, 'num_randomizations': 32}), PubResult(data=DataBin(evs=np.ndarray(<shape=(3, 10), dtype=float64>), stds=np.ndarray(<shape=(3, 10), dtype=float64>), ensemble_standard_error=np.ndarray(<shape=(3, 10), dtype=float64>), shape=(3, 10)), metadata={'shots': 4096, 'target_precision': 0.015625, 'circuit_metadata': {'layer_depth': 8, 'qubits': [0, 1, 2, 3, 4, 5], 'num_qubits': 127, 'layer_idx': 'circ_1'}, 'num_randomizations': 32}), PubResult(data=DataBin(evs=np.ndarray(<shape=(4, 10), dtype=float64>), stds=np.ndarray(<shape=(4, 10), dtype=float64>), ensemble_standard_error=np.ndarray(<shape=(4, 10), dtype=float64>), shape=(4, 10)), metadata={'shots': 4096, 'target_precision': 0.015625, 'circuit_metadata': {'layer_depth': 8, 'qubits': [0, 1, 2, 3, 4, 5], 'num_qubits': 127, 'layer_idx': 'circ_2'}, 'num_randomizations': 32}), PubResult(data=DataBin(evs=np.ndarray(<shape=(3, 10), dtype=float64>), stds=np.ndarray(<shape=(3, 10), dtype=float64>), ensemble_standard_error=np.ndarray(<shape=(3, 10), dtype=float64>), shape=(3, 10)), metadata={'shots': 4096, 'target_precision': 0.015625, 'circuit_metadata': {'layer_depth': 16, 'qubits': [0, 1, 2, 3, 4, 5], 'num_qubits': 127, 'layer_idx': 'circ_1'}, 'num_randomizations': 32}), PubResult(data=DataBin(evs=np.ndarray(<shape=(4, 10), dtype=float64>), stds=np.ndarray(<shape=(4, 10), dtype=float64>), ensemble_standard_error=np.ndarray(<shape=(4, 10), dtype=float64>), shape=(4, 10)), metadata={'shots': 4096, 'target_precision': 0.015625, 'circuit_metadata': {'layer_depth': 16, 'qubits': [0, 1, 2, 3, 4, 5], 'num_qubits': 127, 'layer_idx': 'circ_2'}, 'num_randomizations': 32}), PubResult(data=DataBin(evs=np.ndarray(<shape=(3, 10), dtype=float64>), stds=np.ndarray(<shape=(3, 10), dtype=float64>), ensemble_standard_error=np.ndarray(<shape=(3, 10), dtype=float64>), shape=(3, 10)), metadata={'shots': 4096, 'target_precision': 0.015625, 'circuit_metadata': {'layer_depth': 32, 'qubits': [0, 1, 2, 3, 4, 5], 'num_qubits': 127, 'layer_idx': 'circ_1'}, 'num_randomizations': 32}), PubResult(data=DataBin(evs=np.ndarray(<shape=(4, 10), dtype=float64>), stds=np.ndarray(<shape=(4, 10), dtype=float64>), ensemble_standard_error=np.ndarray(<shape=(4, 10), dtype=float64>), shape=(4, 10)), metadata={'shots': 4096, 'target_precision': 0.015625, 'circuit_metadata': {'layer_depth': 32, 'qubits': [0, 1, 2, 3, 4, 5], 'num_qubits': 127, 'layer_idx': 'circ_2'}, 'num_randomizations': 32}), PubResult(data=DataBin(evs=np.ndarray(<shape=(3, 10), dtype=float64>), stds=np.ndarray(<shape=(3, 10), dtype=float64>), ensemble_standard_error=np.ndarray(<shape=(3, 10), dtype=float64>), shape=(3, 10)), metadata={'shots': 4096, 'target_precision': 0.015625, 'circuit_metadata': {'layer_depth': 64, 'qubits': [0, 1, 2, 3, 4, 5], 'num_qubits': 127, 'layer_idx': 'circ_1'}, 'num_randomizations': 32}), PubResult(data=DataBin(evs=np.ndarray(<shape=(4, 10), dtype=float64>), stds=np.ndarray(<shape=(4, 10), dtype=float64>), ensemble_standard_error=np.ndarray(<shape=(4, 10), dtype=float64>), shape=(4, 10)), metadata={'shots': 4096, 'target_precision': 0.015625, 'circuit_metadata': {'layer_depth': 64, 'qubits': [0, 1, 2, 3, 4, 5], 'num_qubits': 127, 'layer_idx': 'circ_2'}, 'num_randomizations': 32})], metadata={'dynamical_decoupling': {'enable': False, 'sequence_type': 'XX', 'extra_slack_distribution': 'middle', 'scheduling_method': 'alap'}, 'twirling': {'enable_gates': False, 'enable_measure': True, 'num_randomizations': 'auto', 'shots_per_randomization': 'auto', 'interleave_randomizations': True, 'strategy': 'active-accum'}, 'resilience': {'measure_mitigation': False, 'zne_mitigation': False, 'pec_mitigation': False}, 'version': 2})"
      ]
     },
     "execution_count": 119,
     "metadata": {},
     "output_type": "execute_result"
    }
   ],
   "execution_count": 119
  },
  {
   "cell_type": "markdown",
   "metadata": {},
   "source": [
    "# Part 9: Data Analysis"
   ]
  },
  {
   "cell_type": "markdown",
   "metadata": {},
   "source": [
    "The final step is to perform the fittings of the decay curves to perform the EPLG analysis.\n",
    "\n",
    "Let's first grab some of the relevant data from the `PrimitiveResult`."
   ]
  },
  {
   "cell_type": "code",
   "metadata": {
    "ExecuteTime": {
     "end_time": "2024-07-26T03:50:45.790915Z",
     "start_time": "2024-07-26T03:50:45.786140Z"
    }
   },
   "source": [
    "data_out = {\n",
    "    \"evs\": [pub_res.data.evs for pub_res in primitive_result],\n",
    "    \"stds\": [pub_res.data.stds for pub_res in primitive_result],\n",
    "    \"result_metadata\": primitive_result.metadata,\n",
    "    \"pub_metadata\": [pub_res.metadata for pub_res in primitive_result]\n",
    "}"
   ],
   "outputs": [],
   "execution_count": 120
  },
  {
   "cell_type": "markdown",
   "metadata": {},
   "source": [
    "Now we can rearrange the expectation values into an array in a convenient form, as well as average over the randomized Cliffords."
   ]
  },
  {
   "cell_type": "code",
   "metadata": {
    "ExecuteTime": {
     "end_time": "2024-07-26T03:50:51.933569Z",
     "start_time": "2024-07-26T03:50:51.928463Z"
    }
   },
   "source": [
    "# evs_at_depth is a \n",
    "evs_at_depth = np.zeros((len(depths), data_out['evs'][0].shape[0]*2))\n",
    "for i in range(len(depths)):\n",
    "    layer1_evs = np.average(data_out['evs'][2*i], axis=-1)\n",
    "    layer2_evs = np.average(data_out['evs'][2*i+1], axis=-1)\n",
    "    evs_at_depth[i,:] = np.array([item for pair in zip(layer1_evs, layer2_evs) for item in pair])"
   ],
   "outputs": [],
   "execution_count": 121
  },
  {
   "cell_type": "markdown",
   "metadata": {},
   "source": [
    "The resulting shape has two axes, one for the depth (axis `0`, with shape `6`) and one for the number of subsystem fidelities (axis `1`, dependent on your path)."
   ]
  },
  {
   "cell_type": "code",
   "metadata": {
    "ExecuteTime": {
     "end_time": "2024-07-26T03:50:57.218980Z",
     "start_time": "2024-07-26T03:50:57.214979Z"
    }
   },
   "source": [
    "evs_at_depth.shape"
   ],
   "outputs": [
    {
     "data": {
      "text/plain": [
       "(6, 6)"
      ]
     },
     "execution_count": 122,
     "metadata": {},
     "output_type": "execute_result"
    }
   ],
   "execution_count": 122
  },
  {
   "cell_type": "markdown",
   "metadata": {},
   "source": [
    "Now we can plot the decay curves for the different subsystems."
   ]
  },
  {
   "cell_type": "code",
   "metadata": {
    "ExecuteTime": {
     "end_time": "2024-07-26T03:51:03.860508Z",
     "start_time": "2024-07-26T03:51:03.291761Z"
    }
   },
   "source": [
    "import matplotlib.pyplot as plt"
   ],
   "outputs": [],
   "execution_count": 123
  },
  {
   "cell_type": "code",
   "metadata": {
    "ExecuteTime": {
     "end_time": "2024-07-26T03:51:10.940704Z",
     "start_time": "2024-07-26T03:51:10.724013Z"
    }
   },
   "source": [
    "ax = plt.gca()\n",
    "for i in range(evs_at_depth.shape[1]):\n",
    "    ax.plot(depths, evs_at_depth[:,i])\n",
    "\n",
    "ax.set_ylabel(\"Ground State Population\")\n",
    "ax.set_xlabel(\"Depth\")\n",
    "ax.grid()"
   ],
   "outputs": [
    {
     "data": {
      "text/plain": [
       "<Figure size 640x480 with 1 Axes>"
      ],
      "image/png": "[encoded data removed]"
     },
     "metadata": {},
     "output_type": "display_data"
    }
   ],
   "execution_count": 124
  },
  {
   "cell_type": "markdown",
   "metadata": {},
   "source": [
    "Now we need to fit these to exponential decays, we can do this with the `lmfit` python package. The exponential decay has the following form:\n",
    "$$\n",
    "A\\alpha^L+B\n",
    "$$\n",
    "where $\\alpha$ is the error rate, $L$ denotes the number of cycles (depth) in the EPLG circuits, parameters $A$ and $B$ are the fitting parameters to capture the SPAM (state preparation and measurement) errors."
   ]
  },
  {
   "cell_type": "code",
   "metadata": {
    "ExecuteTime": {
     "end_time": "2024-07-26T03:51:19.416048Z",
     "start_time": "2024-07-26T03:51:17.598701Z"
    }
   },
   "source": [
    "import lmfit\n",
    "model= lmfit.models.ExpressionModel(\n",
    "            expr=\"a * alpha ** x + b\",\n",
    "            name=\"rb_decay\")\n",
    "\n",
    "params_dict = {\n",
    "    'a': {'value': 1.0,\n",
    "            'min': -1.0,\n",
    "            'max': 1.0,\n",
    "            },\n",
    "    'b': {'value': 0.0, \n",
    "            'min': -1.0,\n",
    "            'max': 1.0,\n",
    "            },\n",
    "    'alpha': {'value': 0.9, \n",
    "              'min': 0.0,\n",
    "              'max': 1.0\n",
    "              },\n",
    "}\n",
    "p = model.make_params(**params_dict)"
   ],
   "outputs": [],
   "execution_count": 125
  },
  {
   "cell_type": "code",
   "metadata": {
    "ExecuteTime": {
     "end_time": "2024-07-26T03:51:25.381276Z",
     "start_time": "2024-07-26T03:51:25.289862Z"
    }
   },
   "source": [
    "alphas = []\n",
    "for i in range(evs_at_depth.shape[-1]):\n",
    "    result = model.fit(evs_at_depth[:,i], p, x=depths)\n",
    "    alphas.append(result.params['alpha'].value)"
   ],
   "outputs": [],
   "execution_count": 126
  },
  {
   "cell_type": "markdown",
   "metadata": {},
   "source": [
    "Now we can finally use the expressions in the EPLG paper to compute process fidelities.\n",
    "$\\alpha$ is related to the average gate error vis\n",
    "$$\n",
    "\\epsilon = \\frac{D-1}{D} (1-\\alpha)\n",
    "$$\n",
    "where $D$ denotes the the dimension of the Hilbert space, e.g., $D=4$ for two-qubit processes. The average gate fidelity is $F_g = 1-\\epsilon$.\n",
    "The process fidelity is related to the average gate fidelity via\n",
    "$$\n",
    "F_g=\\frac{DF_p+1}{D+1}\n",
    "$$"
   ]
  },
  {
   "cell_type": "code",
   "metadata": {
    "ExecuteTime": {
     "end_time": "2024-07-26T03:51:31.674103Z",
     "start_time": "2024-07-26T03:51:31.670892Z"
    }
   },
   "source": [
    "def cal_process_fid(alpha, D=4):\n",
    "    epsilon = (D-1) * (1 - alpha)/D\n",
    "    Fg = 1 - epsilon\n",
    "    Fp = ((D+1) * Fg -1)/D\n",
    "    return Fp"
   ],
   "outputs": [],
   "execution_count": 127
  },
  {
   "cell_type": "markdown",
   "metadata": {},
   "source": [
    "And with a little data-wrangling in `pandas` we can apply this to our data."
   ]
  },
  {
   "cell_type": "code",
   "metadata": {
    "ExecuteTime": {
     "end_time": "2024-07-26T03:51:40.251773Z",
     "start_time": "2024-07-26T03:51:40.227078Z"
    }
   },
   "source": [
    "import pandas as pd\n",
    "\n",
    "qubit_pairs = [item for pair in zip(LAYER_1_ANSWER, LAYER_2_ANSWER) for item in pair]\n",
    "pfs = [cal_process_fid(alpha) for alpha in alphas]\n",
    "df = pd.DataFrame(zip(qubit_pairs, alphas, pfs), columns=['qubit pair', 'alpha', 'process fidelity'])\n",
    "df"
   ],
   "outputs": [
    {
     "data": {
      "text/plain": [
       "  qubit pair     alpha  process fidelity\n",
       "0     (1, 0)  0.900000          0.906250\n",
       "1     (2, 1)  0.973550          0.975203\n",
       "2     (2, 3)  0.979891          0.981147\n",
       "3     (3, 4)  0.876843          0.884540"
      ],
      "text/html": [
       "<div>\n",
       "<style scoped>\n",
       "    .dataframe tbody tr th:only-of-type {\n",
       "        vertical-align: middle;\n",
       "    }\n",
       "\n",
       "    .dataframe tbody tr th {\n",
       "        vertical-align: top;\n",
       "    }\n",
       "\n",
       "    .dataframe thead th {\n",
       "        text-align: right;\n",
       "    }\n",
       "</style>\n",
       "<table border=\"1\" class=\"dataframe\">\n",
       "  <thead>\n",
       "    <tr style=\"text-align: right;\">\n",
       "      <th></th>\n",
       "      <th>qubit pair</th>\n",
       "      <th>alpha</th>\n",
       "      <th>process fidelity</th>\n",
       "    </tr>\n",
       "  </thead>\n",
       "  <tbody>\n",
       "    <tr>\n",
       "      <th>0</th>\n",
       "      <td>(1, 0)</td>\n",
       "      <td>0.900000</td>\n",
       "      <td>0.906250</td>\n",
       "    </tr>\n",
       "    <tr>\n",
       "      <th>1</th>\n",
       "      <td>(2, 1)</td>\n",
       "      <td>0.973550</td>\n",
       "      <td>0.975203</td>\n",
       "    </tr>\n",
       "    <tr>\n",
       "      <th>2</th>\n",
       "      <td>(2, 3)</td>\n",
       "      <td>0.979891</td>\n",
       "      <td>0.981147</td>\n",
       "    </tr>\n",
       "    <tr>\n",
       "      <th>3</th>\n",
       "      <td>(3, 4)</td>\n",
       "      <td>0.876843</td>\n",
       "      <td>0.884540</td>\n",
       "    </tr>\n",
       "  </tbody>\n",
       "</table>\n",
       "</div>"
      ]
     },
     "execution_count": 128,
     "metadata": {},
     "output_type": "execute_result"
    }
   ],
   "execution_count": 128
  },
  {
   "cell_type": "markdown",
   "metadata": {},
   "source": [
    "We now proceed to use the 2-qubit process fidelity `pfs` calculated above to compute the Layer Fidelity. For each value of the chain size, we take the largest Layer Fidelity from all the subchains measured. At the two ends of the chain, the 1-qubit process fidelity is approximated by the square root of the 2-qubit process fidelity. The data analysis code is adapted from the notebook [here](https://github.com/qiskit-community/qiskit-device-benchmarking/blob/main/notebooks/layer_fidelity.ipynb).  "
   ]
  },
  {
   "cell_type": "code",
   "metadata": {
    "ExecuteTime": {
     "end_time": "2024-07-26T03:51:47.880230Z",
     "start_time": "2024-07-26T03:51:47.876074Z"
    }
   },
   "source": [
    "# Compute layer fidelity\n",
    "chain_lens = np.arange(2, len(pfs), 1)\n",
    "chain_fids = []\n",
    "for length in chain_lens:\n",
    "     w = length + 1  # window size\n",
    "     fid_w = max(\n",
    "          np.sqrt(pfs[s]) * np.prod(pfs[s + 1 : s + w - 1]) * np.sqrt(pfs[s + w - 1]) for s in range(len(pfs) - w + 1))\n",
    "     chain_fids.append(fid_w)"
   ],
   "outputs": [],
   "execution_count": 129
  },
  {
   "cell_type": "markdown",
   "metadata": {},
   "source": [
    "Now we can present the Layer Fidelity as a function of our chain length. This should decrease for larger chains."
   ]
  },
  {
   "cell_type": "code",
   "metadata": {
    "ExecuteTime": {
     "end_time": "2024-07-26T03:51:53.948145Z",
     "start_time": "2024-07-26T03:51:53.841733Z"
    }
   },
   "source": [
    "# Plot LF by chain length\n",
    "plt.title(f\"Backend: {BACKEND.name}\")\n",
    "plt.plot(\n",
    "    chain_lens,\n",
    "    chain_fids,\n",
    "    marker=\"o\",\n",
    "    linestyle=\"-\",\n",
    ")\n",
    "plt.xlim(0, chain_lens[-1] * 1.05)\n",
    "plt.ylim(0.95 * min(chain_fids), 1)\n",
    "plt.ylabel(\"Layer Fidelity\")\n",
    "plt.xlabel(\"Chain Length\")\n",
    "plt.grid()\n",
    "plt.show()"
   ],
   "outputs": [
    {
     "data": {
      "text/plain": [
       "<Figure size 640x480 with 1 Axes>"
      ],
      "image/png": "[encoded data removed]"
     },
     "metadata": {},
     "output_type": "display_data"
    }
   ],
   "execution_count": 130
  },
  {
   "cell_type": "markdown",
   "metadata": {},
   "source": [
    "Then, at long last, we can calculate the EPLG as a function of chain length. EPLG is defined as \n",
    "$$\n",
    "EPLG = 1 − LF^{1/n_{2q}}\n",
    "$$\n",
    "where $n_{2q}$ is the number of two-qubit gates in all the layers"
   ]
  },
  {
   "cell_type": "code",
   "metadata": {
    "ExecuteTime": {
     "end_time": "2024-07-26T03:52:05.443579Z",
     "start_time": "2024-07-26T03:52:05.304597Z"
    }
   },
   "source": [
    "# Plot EPLG by chain length\n",
    "num_2q_gates = [length - 1 for length in chain_lens]\n",
    "chain_eplgs = [\n",
    "    1 - (fid ** (1 / num_2q)) for num_2q, fid in zip(num_2q_gates, chain_fids)\n",
    "]\n",
    "plt.title(f\"Backend: {BACKEND.name}\")\n",
    "plt.plot(\n",
    "    chain_lens,\n",
    "    chain_eplgs,\n",
    "    marker=\"o\",\n",
    "    linestyle=\"-\",\n",
    ")\n",
    "plt.xlim(0, chain_lens[-1] * 1.05)\n",
    "plt.ylabel(\"Error per Layered Gates\")\n",
    "plt.xlabel(\"Chain Length\")\n",
    "plt.grid()\n",
    "plt.show()"
   ],
   "outputs": [
    {
     "data": {
      "text/plain": [
       "<Figure size 640x480 with 1 Axes>"
      ],
      "image/png": "[encoded data removed]"
     },
     "metadata": {},
     "output_type": "display_data"
    }
   ],
   "execution_count": 131
  },
  {
   "cell_type": "markdown",
   "metadata": {},
   "source": [
    "This analysis is very useful in diagnosing which qubits and devices to use for utility-scale workloads."
   ]
  },
  {
   "cell_type": "code",
   "metadata": {
    "ExecuteTime": {
     "end_time": "2024-07-26T03:52:11.736287Z",
     "start_time": "2024-07-26T03:52:11.725545Z"
    }
   },
   "source": [
    "import datetime\n",
    "from IPython.display import HTML, display\n",
    "\n",
    "\n",
    "def qiskit_copyright(line=\"\", cell=None):\n",
    "    \"\"\"IBM copyright\"\"\"\n",
    "    now = datetime.datetime.now()\n",
    "\n",
    "    html = \"<div style='width: 100%; background-color:#d5d9e0;\"\n",
    "    html += \"padding-left: 10px; padding-bottom: 10px; padding-right: 10px; padding-top: 5px'>\"\n",
    "    html += \"<p>&copy; Copyright IBM 2017, %s.</p>\" % now.year\n",
    "    html += \"<p>This code is licensed under the Apache License, Version 2.0. You may<br>\"\n",
    "    html += \"obtain a copy of this license in the LICENSE.txt file in the root directory<br> \"\n",
    "    html += \"of this source tree or at http://www.apache.org/licenses/LICENSE-2.0.\"\n",
    "\n",
    "    html += \"<p>Any modifications or derivative works of this code must retain this<br>\"\n",
    "    html += \"copyright notice, and modified files need to carry a notice indicating<br>\"\n",
    "    html += \"that they have been altered from the originals.</p>\"\n",
    "    html += \"</div>\"\n",
    "    return display(HTML(html))\n",
    "\n",
    "\n",
    "qiskit_copyright()"
   ],
   "outputs": [
    {
     "data": {
      "text/plain": [
       "<IPython.core.display.HTML object>"
      ],
      "text/html": [
       "<div style='width: 100%; background-color:#d5d9e0;padding-left: 10px; padding-bottom: 10px; padding-right: 10px; padding-top: 5px'><p>&copy; Copyright IBM 2017, 2024.</p><p>This code is licensed under the Apache License, Version 2.0. You may<br>obtain a copy of this license in the LICENSE.txt file in the root directory<br> of this source tree or at http://www.apache.org/licenses/LICENSE-2.0.<p>Any modifications or derivative works of this code must retain this<br>copyright notice, and modified files need to carry a notice indicating<br>that they have been altered from the originals.</p></div>"
      ]
     },
     "metadata": {},
     "output_type": "display_data"
    }
   ],
   "execution_count": 132
  }
 ],
 "metadata": {
  "kernelspec": {
   "display_name": "runtime-latest",
   "language": "python",
   "name": "python3"
  },
  "language_info": {
   "codemirror_mode": {
    "name": "ipython",
    "version": 3
   },
   "file_extension": ".py",
   "mimetype": "text/x-python",
   "name": "python",
   "nbconvert_exporter": "python",
   "pygments_lexer": "ipython3",
   "version": "3.11.6"
  }
 },
 "nbformat": 4,
 "nbformat_minor": 2
}
